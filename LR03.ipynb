{
  "nbformat": 4,
  "nbformat_minor": 0,
  "metadata": {
    "colab": {
      "provenance": [],
      "authorship_tag": "ABX9TyNfMBgR0WGFpxQ1rrAkh062",
      "include_colab_link": true
    },
    "kernelspec": {
      "name": "python3",
      "display_name": "Python 3"
    },
    "language_info": {
      "name": "python"
    }
  },
  "cells": [
    {
      "cell_type": "markdown",
      "metadata": {
        "id": "view-in-github",
        "colab_type": "text"
      },
      "source": [
        "<a href=\"https://colab.research.google.com/github/m-volnykh/BasisOfMachineLearning/blob/main/LR03.ipynb\" target=\"_parent\"><img src=\"https://colab.research.google.com/assets/colab-badge.svg\" alt=\"Open In Colab\"/></a>"
      ]
    },
    {
      "cell_type": "markdown",
      "source": [
        "# Лабораторная работа №3: Временные ряды\n",
        "\n",
        "Выполнила Вольных М.В., 3 курс ИВТ, 2-1"
      ],
      "metadata": {
        "id": "xhW1FXvqcJga"
      }
    },
    {
      "cell_type": "markdown",
      "source": [
        "## Подключение данных"
      ],
      "metadata": {
        "id": "o1aWmGTdclhb"
      }
    },
    {
      "cell_type": "code",
      "execution_count": null,
      "metadata": {
        "id": "4nDLOce5awnq"
      },
      "outputs": [],
      "source": [
        "%%capture\n",
        "!git clone https://github.com/m-volnykh/BasisOfMachineLearning"
      ]
    },
    {
      "cell_type": "code",
      "source": [
        "#импорт библиотек\n",
        "import pandas as pd\n",
        "import numpy as np\n",
        "from matplotlib import pyplot\n",
        "import statsmodels.api as sm\n",
        "\n",
        "from datetime import datetime"
      ],
      "metadata": {
        "id": "3hLeTidtcpY3"
      },
      "execution_count": null,
      "outputs": []
    },
    {
      "cell_type": "code",
      "source": [
        "data = pd.read_csv('/content/BasisOfMachineLearning/Lab3/tovar_moving.csv',\n",
        "                   index_col=['date'], parse_dates=['date'], dayfirst=False)\n",
        "data = data.asfreq('D')\n",
        "\n",
        "data.head()"
      ],
      "metadata": {
        "colab": {
          "base_uri": "https://localhost:8080/",
          "height": 238
        },
        "id": "swVNxXxVctfq",
        "outputId": "5a5de058-536c-4e77-aa05-6539773c3055"
      },
      "execution_count": null,
      "outputs": [
        {
          "output_type": "execute_result",
          "data": {
            "text/plain": [
              "                 qty\n",
              "date                \n",
              "2009-12-25   72314.0\n",
              "2009-12-26   66586.0\n",
              "2009-12-27  125199.0\n",
              "2009-12-28   91544.0\n",
              "2009-12-29   76995.0"
            ],
            "text/html": [
              "\n",
              "  <div id=\"df-8ac653aa-4c85-49a3-8cdd-32a50135ac53\" class=\"colab-df-container\">\n",
              "    <div>\n",
              "<style scoped>\n",
              "    .dataframe tbody tr th:only-of-type {\n",
              "        vertical-align: middle;\n",
              "    }\n",
              "\n",
              "    .dataframe tbody tr th {\n",
              "        vertical-align: top;\n",
              "    }\n",
              "\n",
              "    .dataframe thead th {\n",
              "        text-align: right;\n",
              "    }\n",
              "</style>\n",
              "<table border=\"1\" class=\"dataframe\">\n",
              "  <thead>\n",
              "    <tr style=\"text-align: right;\">\n",
              "      <th></th>\n",
              "      <th>qty</th>\n",
              "    </tr>\n",
              "    <tr>\n",
              "      <th>date</th>\n",
              "      <th></th>\n",
              "    </tr>\n",
              "  </thead>\n",
              "  <tbody>\n",
              "    <tr>\n",
              "      <th>2009-12-25</th>\n",
              "      <td>72314.0</td>\n",
              "    </tr>\n",
              "    <tr>\n",
              "      <th>2009-12-26</th>\n",
              "      <td>66586.0</td>\n",
              "    </tr>\n",
              "    <tr>\n",
              "      <th>2009-12-27</th>\n",
              "      <td>125199.0</td>\n",
              "    </tr>\n",
              "    <tr>\n",
              "      <th>2009-12-28</th>\n",
              "      <td>91544.0</td>\n",
              "    </tr>\n",
              "    <tr>\n",
              "      <th>2009-12-29</th>\n",
              "      <td>76995.0</td>\n",
              "    </tr>\n",
              "  </tbody>\n",
              "</table>\n",
              "</div>\n",
              "    <div class=\"colab-df-buttons\">\n",
              "\n",
              "  <div class=\"colab-df-container\">\n",
              "    <button class=\"colab-df-convert\" onclick=\"convertToInteractive('df-8ac653aa-4c85-49a3-8cdd-32a50135ac53')\"\n",
              "            title=\"Convert this dataframe to an interactive table.\"\n",
              "            style=\"display:none;\">\n",
              "\n",
              "  <svg xmlns=\"http://www.w3.org/2000/svg\" height=\"24px\" viewBox=\"0 -960 960 960\">\n",
              "    <path d=\"M120-120v-720h720v720H120Zm60-500h600v-160H180v160Zm220 220h160v-160H400v160Zm0 220h160v-160H400v160ZM180-400h160v-160H180v160Zm440 0h160v-160H620v160ZM180-180h160v-160H180v160Zm440 0h160v-160H620v160Z\"/>\n",
              "  </svg>\n",
              "    </button>\n",
              "\n",
              "  <style>\n",
              "    .colab-df-container {\n",
              "      display:flex;\n",
              "      gap: 12px;\n",
              "    }\n",
              "\n",
              "    .colab-df-convert {\n",
              "      background-color: #E8F0FE;\n",
              "      border: none;\n",
              "      border-radius: 50%;\n",
              "      cursor: pointer;\n",
              "      display: none;\n",
              "      fill: #1967D2;\n",
              "      height: 32px;\n",
              "      padding: 0 0 0 0;\n",
              "      width: 32px;\n",
              "    }\n",
              "\n",
              "    .colab-df-convert:hover {\n",
              "      background-color: #E2EBFA;\n",
              "      box-shadow: 0px 1px 2px rgba(60, 64, 67, 0.3), 0px 1px 3px 1px rgba(60, 64, 67, 0.15);\n",
              "      fill: #174EA6;\n",
              "    }\n",
              "\n",
              "    .colab-df-buttons div {\n",
              "      margin-bottom: 4px;\n",
              "    }\n",
              "\n",
              "    [theme=dark] .colab-df-convert {\n",
              "      background-color: #3B4455;\n",
              "      fill: #D2E3FC;\n",
              "    }\n",
              "\n",
              "    [theme=dark] .colab-df-convert:hover {\n",
              "      background-color: #434B5C;\n",
              "      box-shadow: 0px 1px 3px 1px rgba(0, 0, 0, 0.15);\n",
              "      filter: drop-shadow(0px 1px 2px rgba(0, 0, 0, 0.3));\n",
              "      fill: #FFFFFF;\n",
              "    }\n",
              "  </style>\n",
              "\n",
              "    <script>\n",
              "      const buttonEl =\n",
              "        document.querySelector('#df-8ac653aa-4c85-49a3-8cdd-32a50135ac53 button.colab-df-convert');\n",
              "      buttonEl.style.display =\n",
              "        google.colab.kernel.accessAllowed ? 'block' : 'none';\n",
              "\n",
              "      async function convertToInteractive(key) {\n",
              "        const element = document.querySelector('#df-8ac653aa-4c85-49a3-8cdd-32a50135ac53');\n",
              "        const dataTable =\n",
              "          await google.colab.kernel.invokeFunction('convertToInteractive',\n",
              "                                                    [key], {});\n",
              "        if (!dataTable) return;\n",
              "\n",
              "        const docLinkHtml = 'Like what you see? Visit the ' +\n",
              "          '<a target=\"_blank\" href=https://colab.research.google.com/notebooks/data_table.ipynb>data table notebook</a>'\n",
              "          + ' to learn more about interactive tables.';\n",
              "        element.innerHTML = '';\n",
              "        dataTable['output_type'] = 'display_data';\n",
              "        await google.colab.output.renderOutput(dataTable, element);\n",
              "        const docLink = document.createElement('div');\n",
              "        docLink.innerHTML = docLinkHtml;\n",
              "        element.appendChild(docLink);\n",
              "      }\n",
              "    </script>\n",
              "  </div>\n",
              "\n",
              "\n",
              "    <div id=\"df-c5ca5552-e567-4fb3-9743-7d9c101b2b52\">\n",
              "      <button class=\"colab-df-quickchart\" onclick=\"quickchart('df-c5ca5552-e567-4fb3-9743-7d9c101b2b52')\"\n",
              "                title=\"Suggest charts\"\n",
              "                style=\"display:none;\">\n",
              "\n",
              "<svg xmlns=\"http://www.w3.org/2000/svg\" height=\"24px\"viewBox=\"0 0 24 24\"\n",
              "     width=\"24px\">\n",
              "    <g>\n",
              "        <path d=\"M19 3H5c-1.1 0-2 .9-2 2v14c0 1.1.9 2 2 2h14c1.1 0 2-.9 2-2V5c0-1.1-.9-2-2-2zM9 17H7v-7h2v7zm4 0h-2V7h2v10zm4 0h-2v-4h2v4z\"/>\n",
              "    </g>\n",
              "</svg>\n",
              "      </button>\n",
              "\n",
              "<style>\n",
              "  .colab-df-quickchart {\n",
              "      --bg-color: #E8F0FE;\n",
              "      --fill-color: #1967D2;\n",
              "      --hover-bg-color: #E2EBFA;\n",
              "      --hover-fill-color: #174EA6;\n",
              "      --disabled-fill-color: #AAA;\n",
              "      --disabled-bg-color: #DDD;\n",
              "  }\n",
              "\n",
              "  [theme=dark] .colab-df-quickchart {\n",
              "      --bg-color: #3B4455;\n",
              "      --fill-color: #D2E3FC;\n",
              "      --hover-bg-color: #434B5C;\n",
              "      --hover-fill-color: #FFFFFF;\n",
              "      --disabled-bg-color: #3B4455;\n",
              "      --disabled-fill-color: #666;\n",
              "  }\n",
              "\n",
              "  .colab-df-quickchart {\n",
              "    background-color: var(--bg-color);\n",
              "    border: none;\n",
              "    border-radius: 50%;\n",
              "    cursor: pointer;\n",
              "    display: none;\n",
              "    fill: var(--fill-color);\n",
              "    height: 32px;\n",
              "    padding: 0;\n",
              "    width: 32px;\n",
              "  }\n",
              "\n",
              "  .colab-df-quickchart:hover {\n",
              "    background-color: var(--hover-bg-color);\n",
              "    box-shadow: 0 1px 2px rgba(60, 64, 67, 0.3), 0 1px 3px 1px rgba(60, 64, 67, 0.15);\n",
              "    fill: var(--button-hover-fill-color);\n",
              "  }\n",
              "\n",
              "  .colab-df-quickchart-complete:disabled,\n",
              "  .colab-df-quickchart-complete:disabled:hover {\n",
              "    background-color: var(--disabled-bg-color);\n",
              "    fill: var(--disabled-fill-color);\n",
              "    box-shadow: none;\n",
              "  }\n",
              "\n",
              "  .colab-df-spinner {\n",
              "    border: 2px solid var(--fill-color);\n",
              "    border-color: transparent;\n",
              "    border-bottom-color: var(--fill-color);\n",
              "    animation:\n",
              "      spin 1s steps(1) infinite;\n",
              "  }\n",
              "\n",
              "  @keyframes spin {\n",
              "    0% {\n",
              "      border-color: transparent;\n",
              "      border-bottom-color: var(--fill-color);\n",
              "      border-left-color: var(--fill-color);\n",
              "    }\n",
              "    20% {\n",
              "      border-color: transparent;\n",
              "      border-left-color: var(--fill-color);\n",
              "      border-top-color: var(--fill-color);\n",
              "    }\n",
              "    30% {\n",
              "      border-color: transparent;\n",
              "      border-left-color: var(--fill-color);\n",
              "      border-top-color: var(--fill-color);\n",
              "      border-right-color: var(--fill-color);\n",
              "    }\n",
              "    40% {\n",
              "      border-color: transparent;\n",
              "      border-right-color: var(--fill-color);\n",
              "      border-top-color: var(--fill-color);\n",
              "    }\n",
              "    60% {\n",
              "      border-color: transparent;\n",
              "      border-right-color: var(--fill-color);\n",
              "    }\n",
              "    80% {\n",
              "      border-color: transparent;\n",
              "      border-right-color: var(--fill-color);\n",
              "      border-bottom-color: var(--fill-color);\n",
              "    }\n",
              "    90% {\n",
              "      border-color: transparent;\n",
              "      border-bottom-color: var(--fill-color);\n",
              "    }\n",
              "  }\n",
              "</style>\n",
              "\n",
              "      <script>\n",
              "        async function quickchart(key) {\n",
              "          const quickchartButtonEl =\n",
              "            document.querySelector('#' + key + ' button');\n",
              "          quickchartButtonEl.disabled = true;  // To prevent multiple clicks.\n",
              "          quickchartButtonEl.classList.add('colab-df-spinner');\n",
              "          try {\n",
              "            const charts = await google.colab.kernel.invokeFunction(\n",
              "                'suggestCharts', [key], {});\n",
              "          } catch (error) {\n",
              "            console.error('Error during call to suggestCharts:', error);\n",
              "          }\n",
              "          quickchartButtonEl.classList.remove('colab-df-spinner');\n",
              "          quickchartButtonEl.classList.add('colab-df-quickchart-complete');\n",
              "        }\n",
              "        (() => {\n",
              "          let quickchartButtonEl =\n",
              "            document.querySelector('#df-c5ca5552-e567-4fb3-9743-7d9c101b2b52 button');\n",
              "          quickchartButtonEl.style.display =\n",
              "            google.colab.kernel.accessAllowed ? 'block' : 'none';\n",
              "        })();\n",
              "      </script>\n",
              "    </div>\n",
              "\n",
              "    </div>\n",
              "  </div>\n"
            ],
            "application/vnd.google.colaboratory.intrinsic+json": {
              "type": "dataframe",
              "variable_name": "data",
              "summary": "{\n  \"name\": \"data\",\n  \"rows\": 1439,\n  \"fields\": [\n    {\n      \"column\": \"date\",\n      \"properties\": {\n        \"dtype\": \"date\",\n        \"min\": \"2009-12-25 00:00:00\",\n        \"max\": \"2013-12-02 00:00:00\",\n        \"num_unique_values\": 1439,\n        \"samples\": [\n          \"2010-06-11 00:00:00\",\n          \"2011-08-22 00:00:00\",\n          \"2011-06-26 00:00:00\"\n        ],\n        \"semantic_type\": \"\",\n        \"description\": \"\"\n      }\n    },\n    {\n      \"column\": \"qty\",\n      \"properties\": {\n        \"dtype\": \"number\",\n        \"std\": 125137.28624991255,\n        \"min\": 0.0,\n        \"max\": 823230.0,\n        \"num_unique_values\": 1432,\n        \"samples\": [\n          183792.0,\n          332992.0,\n          220253.0\n        ],\n        \"semantic_type\": \"\",\n        \"description\": \"\"\n      }\n    }\n  ]\n}"
            }
          },
          "metadata": {},
          "execution_count": 170
        }
      ]
    },
    {
      "cell_type": "markdown",
      "source": [
        "Проверка на пропуски"
      ],
      "metadata": {
        "id": "IseH_-RUfkhj"
      }
    },
    {
      "cell_type": "code",
      "source": [
        "data.isnull().sum().sum()"
      ],
      "metadata": {
        "colab": {
          "base_uri": "https://localhost:8080/"
        },
        "id": "ay-_tRKcfi0V",
        "outputId": "10c3cdc2-91b6-438f-e392-d2a8841de367"
      },
      "execution_count": null,
      "outputs": [
        {
          "output_type": "execute_result",
          "data": {
            "text/plain": [
              "np.int64(0)"
            ]
          },
          "metadata": {},
          "execution_count": 171
        }
      ]
    },
    {
      "cell_type": "markdown",
      "source": [
        "## Работа с датасетом"
      ],
      "metadata": {
        "id": "UJDQgc9Pdac-"
      }
    },
    {
      "cell_type": "markdown",
      "source": [
        "### 1. Выделение тренировочных и тестовых данных"
      ],
      "metadata": {
        "id": "8wJq4g_Qt9yX"
      }
    },
    {
      "cell_type": "code",
      "source": [
        "#X - матрица наблюдений, y - столбец правильных ответов\n",
        "\n",
        "train = data[:-1]\n",
        "test = data.iloc[-1]"
      ],
      "metadata": {
        "id": "SrU7Jgcncvz4"
      },
      "execution_count": null,
      "outputs": []
    },
    {
      "cell_type": "markdown",
      "source": [
        "### 2. Анализ временного ряда на наличие тренда и сезонности"
      ],
      "metadata": {
        "id": "tmTojSzBuE80"
      }
    },
    {
      "cell_type": "code",
      "source": [
        "from statsmodels.tsa.seasonal import seasonal_decompose\n",
        "\n",
        "decomposition = seasonal_decompose(data, model='additive')\n",
        "decomposition.plot()\n",
        "pyplot.show()"
      ],
      "metadata": {
        "colab": {
          "base_uri": "https://localhost:8080/",
          "height": 487
        },
        "id": "Wdkre3yDhIR5",
        "outputId": "a10e6f58-de20-4a30-c33d-63246e548219"
      },
      "execution_count": null,
      "outputs": [
        {
          "output_type": "display_data",
          "data": {
            "text/plain": [
              "<Figure size 640x480 with 4 Axes>"
            ],
            "image/png": "[encoded data removed]"
          },
          "metadata": {}
        }
      ]
    },
    {
      "cell_type": "markdown",
      "source": [
        "### 3. Прогноз с помощью экспоненциального сглаживания при α = 0.7"
      ],
      "metadata": {
        "id": "thjLHSBcuP2t"
      }
    },
    {
      "cell_type": "code",
      "source": [
        "from statsmodels.tsa.holtwinters import SimpleExpSmoothing\n",
        "\n",
        "model = SimpleExpSmoothing(train)\n",
        "model_fit = model.fit(smoothing_level=0.7, optimized=False)\n",
        "\n",
        "# Прогнозируем следующее значение (последнее значение в тестовой выборке)\n",
        "forecast = model_fit.predict(start=len(train), end=len(train))\n",
        "\n",
        "print(\"Прогноз с использованием экспоненциального сглаживания (альфа=0.7):\")\n",
        "print(round(forecast.iloc[0],1))\n",
        "print(\"Реальное значение:\")\n",
        "print(test['qty'])"
      ],
      "metadata": {
        "colab": {
          "base_uri": "https://localhost:8080/"
        },
        "id": "MG6SIjHTiGZ_",
        "outputId": "f987d36a-c91d-4118-9a85-100299f05348"
      },
      "execution_count": null,
      "outputs": [
        {
          "output_type": "stream",
          "name": "stdout",
          "text": [
            "Прогноз с использованием экспоненциального сглаживания (альфа=0.7):\n",
            "225015.5\n",
            "Реальное значение:\n",
            "423846.0\n"
          ]
        }
      ]
    },
    {
      "cell_type": "markdown",
      "source": [
        "### 4. Проверка ряда на стационарность"
      ],
      "metadata": {
        "id": "sFn6rR5wumTb"
      }
    },
    {
      "cell_type": "code",
      "source": [
        "from statsmodels.tsa.stattools import adfuller\n",
        "\n",
        "adf_test = adfuller(data['qty'])\n",
        "\n",
        "diff = 0\n",
        "if adf_test[1] <= 0.05:\n",
        "    print(f\"Ряд стационарен\\nПорядок интегрирования равен {diff}\")\n",
        "\n",
        "else:\n",
        "    while adf_test[1] > 0.05 and diff != 3:\n",
        "        diff += 1\n",
        "        data_diff = data.diff(periods=diff).dropna()\n",
        "        adf_test = adfuller(data_diff['qty'])\n",
        "\n",
        "    if diff != 4:\n",
        "        print(f'Ряд стационарен\\nПорядок интегрирования равен {diff}')\n",
        "\n",
        "    else:\n",
        "        print(\"Ряд нестационарен\")"
      ],
      "metadata": {
        "colab": {
          "base_uri": "https://localhost:8080/"
        },
        "id": "OL3Zavnxn6AO",
        "outputId": "d7335f1b-5278-4432-f213-275f7e09a4cb"
      },
      "execution_count": null,
      "outputs": [
        {
          "output_type": "stream",
          "name": "stdout",
          "text": [
            "Ряд стационарен\n",
            "Порядок интегрирования равен 1\n"
          ]
        }
      ]
    },
    {
      "cell_type": "markdown",
      "source": [
        "### 5. Порядок модели AR"
      ],
      "metadata": {
        "id": "vfyOw8k8uqdq"
      }
    },
    {
      "cell_type": "code",
      "source": [
        "from statsmodels.graphics.tsaplots import plot_pacf\n",
        "\n",
        "plot_pacf(data_diff['qty'], lags=20)\n",
        "pyplot.show()"
      ],
      "metadata": {
        "colab": {
          "base_uri": "https://localhost:8080/",
          "height": 452
        },
        "id": "Jd7hTO2Puzsd",
        "outputId": "93f13abb-2771-4c0c-ed7c-e1b3d63c89a1"
      },
      "execution_count": null,
      "outputs": [
        {
          "output_type": "display_data",
          "data": {
            "text/plain": [
              "<Figure size 640x480 with 1 Axes>"
            ],
            "image/png": "[encoded data removed]"
          },
          "metadata": {}
        }
      ]
    },
    {
      "cell_type": "markdown",
      "source": [
        "p = 7"
      ],
      "metadata": {
        "id": "UiHZ_mWL0wQP"
      }
    },
    {
      "cell_type": "markdown",
      "source": [
        "### 6. Прогноз с помощью модели AR при p = 7"
      ],
      "metadata": {
        "id": "cLSIsmJe2CrA"
      }
    },
    {
      "cell_type": "code",
      "source": [
        "from statsmodels.tsa.arima.model import ARIMA\n",
        "\n",
        "p = 7\n",
        "model_arima = ARIMA(train['qty'], order=(p, diff, 0))\n",
        "model_arima_fit = model_arima.fit()\n",
        "\n",
        "forecast_arima = model_arima_fit.predict(start=len(train), end=len(train))\n",
        "\n",
        "print(\"Прогноз с использованием модели AR:\")\n",
        "print(round(forecast_arima.iloc[0], 1))\n",
        "print(\"Реальное значение:\")\n",
        "print(test['qty'])"
      ],
      "metadata": {
        "colab": {
          "base_uri": "https://localhost:8080/"
        },
        "id": "jGhlANpA00nU",
        "outputId": "314ed207-9944-4258-8135-98a2925779ad"
      },
      "execution_count": null,
      "outputs": [
        {
          "output_type": "stream",
          "name": "stdout",
          "text": [
            "Прогноз с использованием модели AR:\n",
            "353079.4\n",
            "Реальное значение:\n",
            "423846.0\n"
          ]
        }
      ]
    },
    {
      "cell_type": "markdown",
      "source": [
        "### 7. Сравнение результатов\n"
      ],
      "metadata": {
        "id": "8oIjzOOE1w0n"
      }
    },
    {
      "cell_type": "markdown",
      "source": [
        "Модель экспоненциального сглаживания прогнозировала значение *225015.5*\n",
        "\n",
        "Модель AR прогнозировала значение *353079.4*\n",
        "\n",
        "Настоящее же значение равно *423846.0*\n",
        "\n",
        "Таким образом, ни одна из моделей не смогла корректно спрогнозировать значение, однако *больше приблизилась модель AR*.\n",
        "\n",
        "Возможно такой результат связан с нетипичностью тестового примера. Нельзя однозначно оценить качество предсказаний, поскольку тестовое значение было всего одно."
      ],
      "metadata": {
        "id": "6vMXRkgu3E2g"
      }
    }
  ]
}